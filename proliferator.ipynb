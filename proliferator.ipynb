{
 "cells": [
  {
   "cell_type": "markdown",
   "metadata": {},
   "source": [
    "Dyson Sphere Program received an interesting update called the [Icarus\n",
    "Evolution][icarus-notes]. One of the more intriguing parts of the update is the\n",
    "completely new system of \"sprayers\" and \"proliferators,\" whereby benefits to\n",
    "production can be achieved if all inputs into a manufacturing process are\n",
    "\"sprayed,\" sort of like some sort of lubricant. It is somewhat reminiscent of\n",
    "Factorio's [productivity][fact-prod] or [speed][fact-speed] modules. That is,\n",
    "for production, you can produce extra outputs from a factory (either 12.5%, 20%,\n",
    "or 25% extra), given that all the inputs for that production are \"sprayed.\" (At\n",
    "least provisionally people are calling the proliferator spray \"paint,\" and\n",
    "referring to the act of passing through the sprayer \"painting.\")\n",
    "\n",
    "[icarus-notes]: https://dsp-wiki.com/Patch_Notes/0.9.24.11182\n",
    "[fact-prod]: https://wiki.factorio.com/Productivity_module_3\n",
    "[fact-speed]: https://wiki.factorio.com/Speed_module_3"
   ]
  },
  {
   "cell_type": "markdown",
   "metadata": {},
   "source": [
    "To give an example of how this can work, the lowest tier paint (yellow paint)\n",
    "provides the 12.5% production bonus, and takes one coal to make. (This marks the\n",
    "first recipe that takes coal other than energized graphite, as point of\n",
    "interest.) So with the simplest production, 1 coal provides 1 yellow paint.\n",
    "\n",
    "Except, of course, you can loop some of the output of this process back to paint\n",
    "the inputs. So if you take some output and boost its own production, it provides\n",
    "12.5% bonus, so for every 8 production cycles, it actually produces 9 units of\n",
    "paint. Or, equivalently, and as I think more usefully for the purpose of\n",
    "analysis, for every 9 units produced, it only consumed 8 units.\n",
    "\n",
    "Simultaneously, the yellow paint can be applied to 12 items, before a new unit\n",
    "of paint begins to be consumed -- or, again perhaps more usefully, each unit\n",
    "being painted consumes 1/12th of the yellow paint. So you are not quite getting\n",
    "a 12.5% bonus straight up on input, but rather that 12.5% minus the loss you get\n",
    "for applying the paint. What does that come out to?"
   ]
  },
  {
   "cell_type": "code",
   "execution_count": 1,
   "metadata": {},
   "outputs": [
    {
     "name": "stdout",
     "output_type": "stream",
     "text": [
      "Effective bonus production: 4.1667%\n",
      "Coal consumed per output: 0.96\n"
     ]
    }
   ],
   "source": [
    "# One output unit of yellow paint requires 1/1.125 input coal.\n",
    "coal = 1/1.125\n",
    "# However, we also consumed some yellow paint, which is `coal/12` units, so the\n",
    "# effective output is really 1 minus that.\n",
    "effective_yellow = 1 - coal/12\n",
    "# The rate of actual bonus is then actually the ratio between produced divided\n",
    "# by input coal.\n",
    "bonus = effective_yellow/coal - 1\n",
    "\n",
    "print(f\"Effective bonus production: {bonus:.4%}\")\n",
    "print(f\"Coal consumed per output: {coal/effective_yellow}\")"
   ]
  },
  {
   "cell_type": "markdown",
   "metadata": {},
   "source": [
    "In understanding how to minimize coal consumption, it's obvious even now that\n",
    "things are definitely more complicated than the simple ratios we enjoyed in the\n",
    "game until this update. Indeed, until I ran the simple analysis above, it was\n",
    "very unclear what the actual costs of production were for producing the paints,\n",
    "even in this simple case of yellow paint only.\n",
    "\n",
    "But, what would happen if we were to use green paint instead? Without any\n",
    "production enhancement at all, that costs four total input coal, instead of the\n",
    "one for yellow, so it seems like it might not be worth it, at least for this\n",
    "specific production chain. But, the situation is not quite so simple as that,\n",
    "either, because with the application of green paint on the input stages.\n",
    "\n",
    "We've mentioned diamond, so let's have an aside about kimberlite. In a star\n",
    "system with lots of coal and some kimberlite and the spiniform crystals, making\n",
    "the green paint from kimberlite makes sense. If we view kimberlite as basically\n",
    "trash, then you might as well just use it where readily available to get the\n",
    "benefits of green paint for \"free.\" Nonetheless it is worthwhile to consider\n",
    "what to do once local reserves of kimberlite are exhausted before the coal is\n",
    "exhausted."
   ]
  },
  {
   "cell_type": "markdown",
   "metadata": {},
   "source": [
    "Our goal is resource efficiency, in this case coal. That said, some of the\n",
    "recipes don't need to just take coal, or coal derived products. So, let's be\n",
    "explicit about our assumptions:\n",
    "\n",
    "1. Kimberlite is not readily accessible and plentiful, since if it were, then\n",
    "   you may as well use it to create green paint and use it.\n",
    "2. We are not using energetic graphite from X-ray cracking. (Ever since oil well\n",
    "   exhaustion was introduced in KSP, I have never found occassion to use\n",
    "   cracking.) Any graphite would come from coal.\n",
    "3. We will not use blue paint on the yellow/green paint production chain, since\n",
    "   spending carbon nanotubes to stretch out reserves of coal or kimberlite is\n",
    "   silly, considering the relatively prevalence of coal/kimberlite vs. spiniform\n",
    "   stalagmite.\n",
    "4. As a corollary, if we discuss blue paint, we assume we want blue paint\n",
    "   applied to its production steps, since that results in a net savings of the\n",
    "   nanotubes."
   ]
  },
  {
   "cell_type": "markdown",
   "metadata": {},
   "source": [
    "Let's now think about using green paint at all stages:"
   ]
  },
  {
   "cell_type": "code",
   "execution_count": 2,
   "metadata": {},
   "outputs": [
    {
     "name": "stdout",
     "output_type": "stream",
     "text": [
      "Production of one green requires 5.7407 sprays.\n",
      "Coal consumed per green: 3.3469\n"
     ]
    }
   ],
   "source": [
    "# First set the consumption rates, e.g., coal per yellow, coal per graphite, etc.,\n",
    "# assuming green paint.\n",
    "gp = 1.2\n",
    "coal_yellow, coal_graph, graph_diamond, yellow_green, diamond_green = 1/gp, 2/gp, 1/gp, 2/gp, 1/gp\n",
    "# For one unit of green paint, we are consuming `yellow_green` amount of yellow paint,\n",
    "# and `diamond_green` amount of diamonds, but these products have inputs, which in turn\n",
    "# might have their own inputs, which also need to be sprayed.\n",
    "coal_y_green = coal_yellow * yellow_green\n",
    "graph_d_green = graph_diamond * diamond_green\n",
    "coal_gd_green = coal_graph * graph_d_green\n",
    "# All of the `_green` chain consumptions account for that many \"sprays\" of green paint itself.\n",
    "total_sprays = yellow_green + diamond_green + coal_y_green + graph_d_green + coal_gd_green\n",
    "print(f\"Production of one green requires {total_sprays:.4f} sprays.\")\n",
    "# Calculate the effective green by discounting how many sprays.\n",
    "effective_green = 1 - total_sprays / 24\n",
    "# The total amount of actual coal consumed per effective output will give us a\n",
    "# feeling for the efficiency.\n",
    "coal_green = coal_y_green + coal_gd_green\n",
    "print(f\"Coal consumed per green: {coal_green/effective_green:.4f}\")"
   ]
  },
  {
   "cell_type": "markdown",
   "metadata": {},
   "source": [
    "This becomes a bit more interesting. The production of one green paint (which\n",
    "itself consists of 24 sprays) will consume almost a fourth of those sprays, and\n",
    "the total amount of coal consumed to produce a net output of a single green is\n",
    "considerably better than if we used no sprays at all.\n",
    "\n",
    "One thing possibly interesting to consider is if we don't spray one of the\n",
    "inputs, that is, if it goes in \"raw,\" say, coal to graphite."
   ]
  },
  {
   "cell_type": "code",
   "execution_count": 3,
   "metadata": {},
   "outputs": [
    {
     "name": "stdout",
     "output_type": "stream",
     "text": [
      "Coal consumed per green if graphite is raw: 3.4335\n"
     ]
    }
   ],
   "source": [
    "# Let's run that again, but let's assume that the energized graphite is produced \"raw\"\n",
    "# from coal.\n",
    "raw_coal_graph = 2.0\n",
    "raw_coal_gd_green = raw_coal_graph * graph_d_green\n",
    "raw_total_sprays = total_sprays - coal_gd_green\n",
    "raw_effective_green = 1 - raw_total_sprays / 24\n",
    "raw_coal_green = coal_y_green + raw_coal_gd_green\n",
    "print(f\"Coal consumed per green if graphite is raw: {raw_coal_green/raw_effective_green:.4f}\")\n"
   ]
  },
  {
   "cell_type": "markdown",
   "metadata": {},
   "source": [
    "We see that not applying the green spray to the coal resulted in an inefficiency. However, is any tradeoff possible? There are a few steps in this pipeline, and while we've evaluated what happens if we apply green paint to all of them (a cost of ~3.3 coal), and we know what happens if we apply paint to none of them (a cost of exactly 4 coal), I do not yet have confidence that *no* mixture strategy of yellow or none on some stages is not appropriate."
   ]
  },
  {
   "cell_type": "code",
   "execution_count": 4,
   "metadata": {},
   "outputs": [
    {
     "name": "stdout",
     "output_type": "stream",
     "text": [
      "Effective yellow bonus per coal: 1.5625\n",
      "Effective green bonus per coal: 1.4342\n"
     ]
    }
   ],
   "source": [
    "# Here we compare the effective \"bonus\" per coal given the above. This is a\n",
    "# fairly problematic comparison for several reasons, but if the yellow had been\n",
    "# lower than the green then I would have suspected it was never beneficial to\n",
    "# apply yellow paint, ever, if one could have green.\n",
    "print(f\"Effective yellow bonus per coal: {effective_yellow/coal * 12 * 0.125:.4f}\")\n",
    "print(f\"Effective green bonus per coal: {effective_green/coal_green * 24 * 0.2:.4f}\")"
   ]
  },
  {
   "cell_type": "markdown",
   "metadata": {},
   "source": []
  },
  {
   "cell_type": "code",
   "execution_count": 5,
   "metadata": {},
   "outputs": [],
   "source": [
    "# Paint bonus productivity improvement factors (with index 0 meaning no paint\n",
    "# applied at all.)\n",
    "pp = [1.0, 1.15, 1.20, 1.25]\n",
    "# Paint item count per tier.\n",
    "pc = [1, 12, 24, 60]\n",
    "# Energy consumption factor.\n",
    "pe = [1.0, 1.3, 1.7, 2.5]"
   ]
  },
  {
   "cell_type": "markdown",
   "metadata": {},
   "source": [
    "While these one-off analyses are interesting in their own right, something that\n",
    "examines a mixed approach of using perhaps green here, yellow there, or even no\n",
    "paint in some circumstances is fairly more complex.\n",
    "\n",
    "Let's assign the symbols $c$, $g$, $d$ to coal, energized graphite, and diamond\n",
    "respectively, and $x$, $y$, $z$ to no paint, yellow paint, and green paint. (As\n",
    "stated above, we are not considering blue paint for these production tabs.)\n",
    "\n",
    "One thing that helps us a little bit is that each intermediate product is used\n",
    "as an ingredient in only one downstream recipe, so we can use something like\n",
    "$p_g$ to mean the productivity improvement of whatever paint is applied to (in\n",
    "this case) the ingredient(s) of graphite (one of $\\{1.0, 1.15, 1.20\\}$), whereas\n",
    "$s_g$ might mean the total number of sprays of whatever paint is applied to the\n",
    "ingredient(s) of graphite.\n",
    "\n",
    "We can also say something like $g_d$ is the graphite going into the diamond\n",
    "production, $c_g$ is the coal going into graphite. So, for example, $c_g = 2\n",
    "\\cdot g_d / p_g$, which means, that coal going into graphite, is twice the\n",
    "number of graphite going into the diamond (which happens to be all graphite),\n",
    "then divided by whatever productivity bonus we have.\n",
    "\n"
   ]
  },
  {
   "cell_type": "code",
   "execution_count": 6,
   "metadata": {},
   "outputs": [],
   "source": [
    "import sympy\n",
    "\n",
    "# We have:\n",
    "# c_g : Coal going into graphite.\n",
    "# c_y : Coal into yellow paint.\n",
    "# g_d : Graphite into diamond.\n",
    "# y_z : Yellow paint into green.\n",
    "# d_z : Diamond into green.\n",
    "\n",
    "# y_s : Yellow paint sprays. This equals the sum of all inputs being accelerated using yellow paint.\n",
    "# z_s : Green paint sprays. This equals the sum of all inputs being accelerated using green paint.\n",
    "\n",
    "# p_g, p_d, p_y, p_z is the productivity of each of the items (must be one of 1.0, 1.125, 1.2).\n",
    "# s_g, s_d, s_y, x_z is the corresponding spray values for the paint being used (respective to above, 1, 12, 24).\n",
    "\n",
    "# The goal is to find the configuration of what is sprayed on what so as to minimize c_g + c_y, \n",
    "\n",
    "cg, cy, gd, yz, dz, ys, zs = sympy.symbols('cg cy gd yz dz ys zs')\n",
    "\n",
    "# The productivity/spray things set per item.\n",
    "pg, pd, py, pz = sympy.symbols('pg pd py pz')\n",
    "sg, sd, sy, sz = sympy.symbols('sg sd sy sz')\n",
    "\n",
    "# c : Total coal, just c_g + c_y.\n",
    "# y : Total yellow paint. y = y_z + y_s / 12.\n",
    "# z : Total green paint, with the invariant held that we're targetting a net output of 1.\n",
    "#     That is: z = 1 + z_s / 24.\n",
    "c, y, z = sympy.symbols('c y z')\n",
    "\n",
    "# Come up with the base equations, in the form of an expression that should evluate to zero.\n",
    "\n",
    "exprs = []\n",
    "\n",
    "# Total coal, yellow, and green.\n",
    "exprs.append(c - cg - cy)\n",
    "exprs.append(y - yz - ys/12)\n",
    "exprs.append(z - 1 - zs/24)\n",
    "# The graphite for the diamond production, depends on 2 coals to graphite.\n",
    "exprs.append(cg - 2*gd/pg)\n",
    "# The diamond for green production, depends on the graphite.\n",
    "exprs.append(gd - dz/pd)\n",
    "# The yellow production all up depends upon coal for yellow.\n",
    "exprs.append(cy - y/py)\n",
    "# Green production depends upon 2 yellows for green, and also the diamonds.\n",
    "exprs.append(yz - 2*z/pz)\n",
    "exprs.append(dz - z/pz)\n",
    "\n",
    "all_vars = [c, cg, cy, y, ys, yz, z, zs, gd, dz]\n",
    "\n",
    "def spray_regime(gi, di, yi, zi):\n",
    "    'Returns a (modified) version of the global expressions.'\n",
    "    # These temporary variables hold the amount of sprays necessary.\n",
    "    temp = [ys, zs]\n",
    "    replacements = []\n",
    "\n",
    "    def extensions(i, p, s, *t):\n",
    "        if i==0: # None on this stage.\n",
    "            replacements.extend( [(p, 1), (s, 1)] )\n",
    "        elif i==1: # Yellow on this stage.\n",
    "            replacements.extend( [ (p, 1.125), (s, 12)] )\n",
    "            for tt in t:\n",
    "                temp[0] = temp[0] - tt\n",
    "        elif i==2: # Green on this stage.\n",
    "            replacements.extend( [(p, 1.2), (s, 24)] )\n",
    "            for tt in t:\n",
    "                temp[1] = temp[1] - tt\n",
    "\n",
    "    extensions(gi, pg, sg, cg) # Graphite depends on coal for graphite.\n",
    "    extensions(di, pd, sd, gd) # Diamond depends on graphite for diamond.\n",
    "    extensions(yi, py, sy, cy) # Yellow depends on coal for yellow.\n",
    "    extensions(zi, pz, sz, yz, dz) # Green depends on yellow and diamond for green.\n",
    "\n",
    "    #print(f\"FOO {replacements}\")\n",
    "\n",
    "    new_exprs = [e.subs(replacements) for e in exprs] + temp\n",
    "    return new_exprs\n",
    "\n",
    "def coal_for_regime(gi, di, yi, zi):\n",
    "    e = spray_regime(gi, di, yi, zi)\n",
    "    # Solve the system of linear equations. There *must* be a better way to solve a system of linear equations, return the result for one variable of interest,\n",
    "    # but unfortunately I can't quite find it.\n",
    "    return float(list(sympy.solvers.linsolve(e, all_vars))[0][0])"
   ]
  },
  {
   "cell_type": "code",
   "execution_count": 7,
   "metadata": {},
   "outputs": [
    {
     "name": "stdout",
     "output_type": "stream",
     "text": [
      "c - cg - cy\n",
      "y - ys/12 - yz\n",
      "z - zs/24 - 1\n",
      "cg - 2*gd\n",
      "-dz + gd\n",
      "cy - y\n",
      "yz - 2*z\n",
      "dz - z\n",
      "ys\n",
      "zs\n"
     ]
    }
   ],
   "source": [
    "# Let's first look that the non-accelerated vanilla pipeline equations look correct.\n",
    "for e in spray_regime(0, 0, 0, 0): print(e)"
   ]
  },
  {
   "cell_type": "code",
   "execution_count": 8,
   "metadata": {},
   "outputs": [
    {
     "data": {
      "text/plain": [
       "4.0"
      ]
     },
     "execution_count": 8,
     "metadata": {},
     "output_type": "execute_result"
    }
   ],
   "source": [
    "# This should be 4.\n",
    "coal_for_regime(0,0,0,0)"
   ]
  },
  {
   "cell_type": "code",
   "execution_count": 9,
   "metadata": {},
   "outputs": [
    {
     "data": {
      "text/plain": [
       "3.3468559837728193"
      ]
     },
     "execution_count": 9,
     "metadata": {},
     "output_type": "execute_result"
    }
   ],
   "source": [
    "# From our previous work, using greens everywhere should be about 3.3469.\n",
    "coal_for_regime(2,2,2,2)"
   ]
  },
  {
   "cell_type": "code",
   "execution_count": 10,
   "metadata": {},
   "outputs": [
    {
     "data": {
      "text/plain": [
       "3.433476394849788"
      ]
     },
     "execution_count": 10,
     "metadata": {},
     "output_type": "execute_result"
    }
   ],
   "source": [
    "# While using greens for everything, except the graphite, should be about 3.4335.\n",
    "coal_for_regime(0,2,2,2)"
   ]
  },
  {
   "cell_type": "code",
   "execution_count": 18,
   "metadata": {},
   "outputs": [
    {
     "data": {
      "text/plain": [
       "3.560830860534125"
      ]
     },
     "execution_count": 18,
     "metadata": {},
     "output_type": "execute_result"
    }
   ],
   "source": [
    "# Substituting the spray on the graphite production and taking it off diamond\n",
    "# should look a bit worse than even that, since we are now \n",
    "coal_for_regime(2,0,2,2)"
   ]
  },
  {
   "cell_type": "code",
   "execution_count": 11,
   "metadata": {},
   "outputs": [
    {
     "data": {
      "text/plain": [
       "(3.3468559837728193, 2, 2, 2, 2)"
      ]
     },
     "execution_count": 11,
     "metadata": {},
     "output_type": "execute_result"
    }
   ],
   "source": [
    "ii = range(3)\n",
    "# Great! Now let's just manually find each minimum regime.\n",
    "min((coal_for_regime(gi,di,yi,zi),gi,di,yi,zi) for gi in ii for di in ii for yi in ii for zi in ii)"
   ]
  },
  {
   "cell_type": "markdown",
   "metadata": {},
   "source": [
    "Well, that was a bit anticlimatic: when doing a coal-only building of greens,\n",
    "it's best to just pipe the green paint onto all the segments leading up to the\n",
    "production of the green paint, and the ~3.3469 coal per green is in fact the\n",
    "best we can do (without kimberlite and blue painting the inputs, of course). As\n",
    "discussed above I don't consider using blue paint, since in my experience coal\n",
    "is far, far more plentiful throughout the star cluster as compared to spiniform\n",
    "stalagmite crystals."
   ]
  },
  {
   "cell_type": "markdown",
   "metadata": {},
   "source": []
  }
 ],
 "metadata": {
  "interpreter": {
   "hash": "c1130cf2e5d82c5673c093d3c92f0885478947563653cb6d62a0319f85a4555d"
  },
  "kernelspec": {
   "display_name": "Python 3.8.8 64-bit ('base': conda)",
   "language": "python",
   "name": "python3"
  },
  "language_info": {
   "codemirror_mode": {
    "name": "ipython",
    "version": 3
   },
   "file_extension": ".py",
   "mimetype": "text/x-python",
   "name": "python",
   "nbconvert_exporter": "python",
   "pygments_lexer": "ipython3",
   "version": "3.8.8"
  },
  "orig_nbformat": 4
 },
 "nbformat": 4,
 "nbformat_minor": 2
}
